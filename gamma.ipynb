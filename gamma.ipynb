{
 "cells": [
  {
   "cell_type": "code",
   "execution_count": 10,
   "id": "daff3487-e9d1-471d-9903-bbe90a57ebff",
   "metadata": {},
   "outputs": [],
   "source": [
    "from scipy.stats import gamma\n",
    "from scipy.stats import norm\n",
    "\n",
    "import matplotlib.pyplot as plt"
   ]
  },
  {
   "cell_type": "code",
   "execution_count": 11,
   "id": "806ac749-44a7-4886-a367-4f8a12e302c4",
   "metadata": {},
   "outputs": [
    {
     "name": "stdout",
     "output_type": "stream",
     "text": [
      "Middle 95% between 40.2 and 59.8\n"
     ]
    }
   ],
   "source": [
    "# define distribution parameters\n",
    "mu = 50\n",
    "sigma = 5\n",
    "\n",
    "# create distribution\n",
    "dist = norm(mu, sigma)\n",
    "low_end = dist.ppf(0.025)\n",
    "high_end = dist.ppf(0.975)\n",
    "print('Middle 95%% between %.1f and %.1f' % (low_end, high_end))"
   ]
  },
  {
   "cell_type": "code",
   "execution_count": null,
   "id": "c0c9d6a1-36a3-47a4-ac17-e813ed7ae1c7",
   "metadata": {},
   "outputs": [],
   "source": []
  },
  {
   "cell_type": "code",
   "execution_count": 8,
   "id": "5675c835-d8cb-4bb6-bd07-65467e94ae98",
   "metadata": {},
   "outputs": [
    {
     "data": {
      "text/plain": [
       "[<matplotlib.lines.Line2D at 0x1d8a04e70a0>]"
      ]
     },
     "execution_count": 8,
     "metadata": {},
     "output_type": "execute_result"
    },
    {
     "data": {
      "image/png": "[encoded data removed]",
      "text/plain": [
       "<Figure size 432x288 with 1 Axes>"
      ]
     },
     "metadata": {
      "needs_background": "light"
     },
     "output_type": "display_data"
    }
   ],
   "source": [
    "a = 1.99\n",
    "\n",
    "fig, ax = plt.subplots(1, 1)\n",
    "\n",
    "x = np.linspace(gamma.ppf(0.01, a),\n",
    "                gamma.ppf(0.99, a), 100)\n",
    "\n",
    "ax.plot(x, gamma.pdf(x, a),\n",
    "       'r-', lw=5, alpha=0.6, label='gamma pdf')"
   ]
  },
  {
   "cell_type": "code",
   "execution_count": null,
   "id": "fc056592-fba4-4975-92b2-db002e751a85",
   "metadata": {},
   "outputs": [],
   "source": [
    "mean, var, skew, kurt = gamma.stats(a, moments='mvsk')"
   ]
  }
 ],
 "metadata": {
  "kernelspec": {
   "display_name": "Python 3 (ipykernel)",
   "language": "python",
   "name": "python3"
  },
  "language_info": {
   "codemirror_mode": {
    "name": "ipython",
    "version": 3
   },
   "file_extension": ".py",
   "mimetype": "text/x-python",
   "name": "python",
   "nbconvert_exporter": "python",
   "pygments_lexer": "ipython3",
   "version": "3.8.9"
  }
 },
 "nbformat": 4,
 "nbformat_minor": 5
}
